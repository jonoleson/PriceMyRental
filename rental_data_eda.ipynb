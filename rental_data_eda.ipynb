{
 "cells": [
  {
   "cell_type": "markdown",
   "metadata": {},
   "source": [
    "#Data Pipeline for PriceMyRental"
   ]
  },
  {
   "cell_type": "markdown",
   "metadata": {},
   "source": [
    "Import pandas, and the get_data function from get_data.py that will retrieve and parse the data"
   ]
  },
  {
   "cell_type": "code",
   "execution_count": 30,
   "metadata": {
    "collapsed": false
   },
   "outputs": [],
   "source": [
    "import pandas as pd\n",
    "from get_data import get_data"
   ]
  },
  {
   "cell_type": "markdown",
   "metadata": {},
   "source": [
    "Set the start and end dates that we want to pull data between, and call get_data, saving the result to a pandas dataframe. We set one_city==True so that we'll only retrieve data for San Francisco. This should take roughly 30 minutes. Set print_urls==True if you want to see the url of each JSON as it's being parsed. "
   ]
  },
  {
   "cell_type": "code",
   "execution_count": 81,
   "metadata": {
    "collapsed": false
   },
   "outputs": [],
   "source": [
    "#These are commented out so they're not run inadvertently \n",
    "# start_date = date(2014, 9, 29)\n",
    "# end_date = date(2015, 6, 17)\n",
    "# raw_df = get_data(start_date, end_date, one_city=True, print_urls=False)\n"
   ]
  },
  {
   "cell_type": "code",
   "execution_count": 5,
   "metadata": {
    "collapsed": false
   },
   "outputs": [],
   "source": [
    "raw_df[(raw_df['region']=='sfc')]"
   ]
  },
  {
   "cell_type": "code",
   "execution_count": 47,
   "metadata": {
    "collapsed": false
   },
   "outputs": [],
   "source": [
    "sfdf = pd.read_csv('data/sf_raw.csv', header=False)"
   ]
  },
  {
   "cell_type": "code",
   "execution_count": 51,
   "metadata": {
    "collapsed": false
   },
   "outputs": [
    {
     "data": {
      "text/plain": [
       "185130"
      ]
     },
     "execution_count": 51,
     "metadata": {},
     "output_type": "execute_result"
    }
   ],
   "source": [
    "len(sfdf.id.unique())"
   ]
  },
  {
   "cell_type": "code",
   "execution_count": 56,
   "metadata": {
    "collapsed": false
   },
   "outputs": [
    {
     "data": {
      "text/plain": [
       "sfc    208587\n",
       "nby      8421\n",
       "sby      5727\n",
       "eby      2243\n",
       "scz      1187\n",
       "pen      1056\n",
       "grg        14\n",
       "gbs        13\n",
       "lgb        13\n",
       "csd         9\n",
       "oah         4\n",
       "chc         3\n",
       "wst         3\n",
       "lac         3\n",
       "mnh         2\n",
       "mdc         2\n",
       "mlt         1\n",
       "see         1\n",
       "hnp         1\n",
       "clk         1\n",
       "wvl         1\n",
       "doc         1\n",
       "dtype: int64"
      ]
     },
     "execution_count": 56,
     "metadata": {},
     "output_type": "execute_result"
    }
   ],
   "source": [
    "sfdf.region.value_counts()"
   ]
  },
  {
   "cell_type": "code",
   "execution_count": 73,
   "metadata": {
    "collapsed": false
   },
   "outputs": [
    {
     "data": {
      "text/plain": [
       "'\\n Elegant and Charming Two Bedroom Corner Unit!\\n 297 18th Ave, San Francisco, CA, 94121\\n Schedule a Tour: http://www.apartmentsrm.com/properties/2025/?source=C\\n Contact Us: http://www.apartmentsrm.com/tenant/contact/2025?source=C\\n Highlights\\n Bedrooms: 2\\n Bathrooms (full/half): 1/0\\n Square footage:\\n Rent: $3,700 per month\\n Deposit: $5,550\\n Parking: 1 Garage Spot Available for $295\\n Pets: No Pets.\\n Non-smoking property\\n Description\\n Features Include: - Large eat-in kitchen with ample counter space and cabinet space. Modern cherry cabinetry, granite counters, gas stove, refrigerator, microwave, and dishwasher. - Laundry room attached to kitchen. Full size washer and dryer - 2 storage closets in hallway - Large spacious bathroom with granite from floor to ceiling - 2 Large Bedrooms with great light - Spacious living room with excellent natural light and brick fireplace - Dining room off the living room with french doors. Potential to be a 3rd bedroom. - Hardwood floors - Crown Molding - Loads of character and Charm A garage is available for $295 a month. Please no pets.\\n Features\\n Crown Molding\\n Dishwasher\\n Fireplace\\n Gas Stove\\n Granite Countertop\\n Hardwood Floor\\n In-Unit Washer / Dryer\\n Microwave\\n Open Kitchen / Living Area\\n Stainless Steel Appliances\\n Storage Space\\n Walk-In Closet\\n Utilities\\n Utilities Not Included\\n Lease\\n Length: 12 months\\n Available: Immediately\\n 297 18th Ave, San Francisco, CA, 94121\\n Schedule a Tour: http://www.apartmentsrm.com/properties/2025/?source=C\\n Contact Us: http://www.apartmentsrm.com/tenant/contact/2025?source=C\\n California Bureau of Real Estate, License #01913789\\nRMID:2025-\\n '"
      ]
     },
     "execution_count": 73,
     "metadata": {},
     "output_type": "execute_result"
    }
   ],
   "source": [
    "sfdf.body[9]"
   ]
  },
  {
   "cell_type": "code",
   "execution_count": 74,
   "metadata": {
    "collapsed": true
   },
   "outputs": [],
   "source": [
    "sfdf = sfdf[(sfdf['region']=='sfc')]"
   ]
  },
  {
   "cell_type": "code",
   "execution_count": 77,
   "metadata": {
    "collapsed": false
   },
   "outputs": [
    {
     "data": {
      "text/plain": [
       "169723"
      ]
     },
     "execution_count": 77,
     "metadata": {},
     "output_type": "execute_result"
    }
   ],
   "source": [
    "len(sfdf.id.unique())"
   ]
  },
  {
   "cell_type": "code",
   "execution_count": 78,
   "metadata": {
    "collapsed": false
   },
   "outputs": [
    {
     "data": {
      "text/plain": [
       "SOMA / south beach             26589\n",
       "pacific heights                13585\n",
       "mission district               13023\n",
       "nob hill                       12085\n",
       "downtown / civic / van ness     9836\n",
       "marina / cow hollow             9344\n",
       "lower nob hill                  8793\n",
       "russian hill                    6964\n",
       "ingleside / SFSU / CCSF         6860\n",
       "sunset / parkside               6635\n",
       "lower pac hts                   6500\n",
       "castro / upper market           6458\n",
       "richmond / seacliff             6442\n",
       "noe valley                      6068\n",
       "inner sunset / UCSF             5624\n",
       "...\n",
       "Through                                    1\n",
       "vacaville                                  1\n",
       "Pacific Ave                                1\n",
       "3711 19th Ave, San Francisco, CA           1\n",
       "10 CYRIL MAGNIN #604                       1\n",
       "223 Upper Terrace                          1\n",
       "san fran                                   1\n",
       "Eureka                                     1\n",
       "San Francisco CA,                          1\n",
       "181 Randall St, San Francisco, CA 94131    1\n",
       "sunnyside                                  1\n",
       "418 Co&#314;College Avenue                 1\n",
       "401 Crescent Court SF                      1\n",
       "Aptos, CA                                  1\n",
       "120 Vicksburg St, San Francisco, Ca        1\n",
       "Length: 577, dtype: int64"
      ]
     },
     "execution_count": 78,
     "metadata": {},
     "output_type": "execute_result"
    }
   ],
   "source": [
    "sfdf.neighborhood.value_counts()"
   ]
  },
  {
   "cell_type": "code",
   "execution_count": 79,
   "metadata": {
    "collapsed": false
   },
   "outputs": [
    {
     "data": {
      "text/html": [
       "<div style=\"max-height:1000px;max-width:1500px;overflow:auto;\">\n",
       "<table border=\"1\" class=\"dataframe\">\n",
       "  <thead>\n",
       "    <tr style=\"text-align: right;\">\n",
       "      <th></th>\n",
       "      <th>baths</th>\n",
       "      <th>beds</th>\n",
       "      <th>body</th>\n",
       "      <th>date</th>\n",
       "      <th>heading</th>\n",
       "      <th>id</th>\n",
       "      <th>lat</th>\n",
       "      <th>long</th>\n",
       "      <th>neighborhood</th>\n",
       "      <th>parking</th>\n",
       "      <th>price</th>\n",
       "      <th>region</th>\n",
       "      <th>washer_dryer</th>\n",
       "    </tr>\n",
       "  </thead>\n",
       "  <tbody>\n",
       "    <tr>\n",
       "      <th>0</th>\n",
       "      <td> 1</td>\n",
       "      <td> 1</td>\n",
       "      <td> \\n We need to move out, but you can take over ...</td>\n",
       "      <td> 2014-09-29 04:26:15</td>\n",
       "      <td>           1 Bedroom  Den Sublet Below Market Rate</td>\n",
       "      <td> 1417995376</td>\n",
       "      <td> 37.766746</td>\n",
       "      <td>-122.420654</td>\n",
       "      <td>  mission district</td>\n",
       "      <td> 4</td>\n",
       "      <td> 3522</td>\n",
       "      <td> sfc</td>\n",
       "      <td> 1</td>\n",
       "    </tr>\n",
       "    <tr>\n",
       "      <th>1</th>\n",
       "      <td> 3</td>\n",
       "      <td> 2</td>\n",
       "      <td> \\n We are renting our single family contempora...</td>\n",
       "      <td> 2014-09-29 04:46:05</td>\n",
       "      <td> $4400 / 2br - 1700ft - Noe/Glen Park 2BR/3BA C...</td>\n",
       "      <td> 1417995432</td>\n",
       "      <td> 37.741280</td>\n",
       "      <td>-122.431662</td>\n",
       "      <td>        noe valley</td>\n",
       "      <td> 1</td>\n",
       "      <td> 4400</td>\n",
       "      <td> sfc</td>\n",
       "      <td> 1</td>\n",
       "    </tr>\n",
       "    <tr>\n",
       "      <th>2</th>\n",
       "      <td> 2</td>\n",
       "      <td> 1</td>\n",
       "      <td> \\n A spacious room on the top floor in a quiet...</td>\n",
       "      <td> 2014-09-29 04:43:03</td>\n",
       "      <td> Spacious furnished room, safe neighborhood, AV...</td>\n",
       "      <td> 1418011844</td>\n",
       "      <td> 37.775086</td>\n",
       "      <td>-122.444593</td>\n",
       "      <td>   USF / panhandle</td>\n",
       "      <td> 0</td>\n",
       "      <td> 1325</td>\n",
       "      <td> sfc</td>\n",
       "      <td> 0</td>\n",
       "    </tr>\n",
       "    <tr>\n",
       "      <th>3</th>\n",
       "      <td> 1</td>\n",
       "      <td> 1</td>\n",
       "      <td> \\n beautiful Victorian flat. Available for mov...</td>\n",
       "      <td> 2014-09-29 05:11:42</td>\n",
       "      <td>     Victorian flat, great neighbors. PETS WELCOME</td>\n",
       "      <td> 1418029004</td>\n",
       "      <td> 37.775279</td>\n",
       "      <td>-122.443080</td>\n",
       "      <td>   USF / panhandle</td>\n",
       "      <td> 0</td>\n",
       "      <td> 3195</td>\n",
       "      <td> sfc</td>\n",
       "      <td> 0</td>\n",
       "    </tr>\n",
       "    <tr>\n",
       "      <th>4</th>\n",
       "      <td> 1</td>\n",
       "      <td> 1</td>\n",
       "      <td> \\n Recently remodeled one bedroom and living r...</td>\n",
       "      <td> 2014-09-29 05:16:21</td>\n",
       "      <td>   Very Nice 1 BR In-Law Apt in great neighborhood</td>\n",
       "      <td> 1418030936</td>\n",
       "      <td> 37.735456</td>\n",
       "      <td>-122.483276</td>\n",
       "      <td> sunset / parkside</td>\n",
       "      <td> 1</td>\n",
       "      <td> 1595</td>\n",
       "      <td> sfc</td>\n",
       "      <td> 1</td>\n",
       "    </tr>\n",
       "  </tbody>\n",
       "</table>\n",
       "</div>"
      ],
      "text/plain": [
       "   baths  beds                                               body  \\\n",
       "0      1     1  \\n We need to move out, but you can take over ...   \n",
       "1      3     2  \\n We are renting our single family contempora...   \n",
       "2      2     1  \\n A spacious room on the top floor in a quiet...   \n",
       "3      1     1  \\n beautiful Victorian flat. Available for mov...   \n",
       "4      1     1  \\n Recently remodeled one bedroom and living r...   \n",
       "\n",
       "                  date                                            heading  \\\n",
       "0  2014-09-29 04:26:15            1 Bedroom  Den Sublet Below Market Rate   \n",
       "1  2014-09-29 04:46:05  $4400 / 2br - 1700ft - Noe/Glen Park 2BR/3BA C...   \n",
       "2  2014-09-29 04:43:03  Spacious furnished room, safe neighborhood, AV...   \n",
       "3  2014-09-29 05:11:42      Victorian flat, great neighbors. PETS WELCOME   \n",
       "4  2014-09-29 05:16:21    Very Nice 1 BR In-Law Apt in great neighborhood   \n",
       "\n",
       "           id        lat        long       neighborhood  parking  price  \\\n",
       "0  1417995376  37.766746 -122.420654   mission district        4   3522   \n",
       "1  1417995432  37.741280 -122.431662         noe valley        1   4400   \n",
       "2  1418011844  37.775086 -122.444593    USF / panhandle        0   1325   \n",
       "3  1418029004  37.775279 -122.443080    USF / panhandle        0   3195   \n",
       "4  1418030936  37.735456 -122.483276  sunset / parkside        1   1595   \n",
       "\n",
       "  region  washer_dryer  \n",
       "0    sfc             1  \n",
       "1    sfc             1  \n",
       "2    sfc             0  \n",
       "3    sfc             0  \n",
       "4    sfc             1  "
      ]
     },
     "execution_count": 79,
     "metadata": {},
     "output_type": "execute_result"
    }
   ],
   "source": [
    "sfdf.head()"
   ]
  },
  {
   "cell_type": "code",
   "execution_count": null,
   "metadata": {
    "collapsed": true
   },
   "outputs": [],
   "source": []
  }
 ],
 "metadata": {
  "kernelspec": {
   "display_name": "Python 2",
   "language": "python",
   "name": "python2"
  },
  "language_info": {
   "codemirror_mode": {
    "name": "ipython",
    "version": 2
   },
   "file_extension": ".py",
   "mimetype": "text/x-python",
   "name": "python",
   "nbconvert_exporter": "python",
   "pygments_lexer": "ipython2",
   "version": "2.7.9"
  }
 },
 "nbformat": 4,
 "nbformat_minor": 0
}
