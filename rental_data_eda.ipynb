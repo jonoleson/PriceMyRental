{
 "cells": [
  {
   "cell_type": "code",
   "execution_count": 9,
   "metadata": {
    "collapsed": false
   },
   "outputs": [],
   "source": [
    "import pandas as pd\n",
    "import requests\n",
    "from datetime import timedelta, date\n",
    "\n"
   ]
  },
  {
   "cell_type": "code",
   "execution_count": 6,
   "metadata": {
    "collapsed": false
   },
   "outputs": [
    {
     "data": {
      "text/html": [
       "<div style=\"max-height:1000px;max-width:1500px;overflow:auto;\">\n",
       "<table border=\"1\" class=\"dataframe\">\n",
       "  <thead>\n",
       "    <tr style=\"text-align: right;\">\n",
       "      <th></th>\n",
       "      <th>state_code</th>\n",
       "      <th>city_code</th>\n",
       "      <th>city</th>\n",
       "    </tr>\n",
       "  </thead>\n",
       "  <tbody>\n",
       "    <tr>\n",
       "      <th>0 </th>\n",
       "      <td> USA-MA</td>\n",
       "      <td> USA-BOS-BOT</td>\n",
       "      <td>                  Boston</td>\n",
       "    </tr>\n",
       "    <tr>\n",
       "      <th>1 </th>\n",
       "      <td> USA-IL</td>\n",
       "      <td> USA-CHI-CHH</td>\n",
       "      <td>                 Chicago</td>\n",
       "    </tr>\n",
       "    <tr>\n",
       "      <th>2 </th>\n",
       "      <td> USX-TX</td>\n",
       "      <td> USA-DAL-DLL</td>\n",
       "      <td>                  Dallas</td>\n",
       "    </tr>\n",
       "    <tr>\n",
       "      <th>3 </th>\n",
       "      <td> USA-MI</td>\n",
       "      <td> USA-DET-DET</td>\n",
       "      <td>                 Detroit</td>\n",
       "    </tr>\n",
       "    <tr>\n",
       "      <th>4 </th>\n",
       "      <td> USA-NV</td>\n",
       "      <td> USA-LAS-LAS</td>\n",
       "      <td>               Las Vegas</td>\n",
       "    </tr>\n",
       "    <tr>\n",
       "      <th>5 </th>\n",
       "      <td> USA-CA</td>\n",
       "      <td> USA-LAX-LSN</td>\n",
       "      <td>             Los Angeles</td>\n",
       "    </tr>\n",
       "    <tr>\n",
       "      <th>6 </th>\n",
       "      <td> USA-FL</td>\n",
       "      <td> USA-MIA-MIF</td>\n",
       "      <td>                   Miami</td>\n",
       "    </tr>\n",
       "    <tr>\n",
       "      <th>7 </th>\n",
       "      <td> USA-MN</td>\n",
       "      <td> USA-MIN-MIA</td>\n",
       "      <td>             Minneapolis</td>\n",
       "    </tr>\n",
       "    <tr>\n",
       "      <th>8 </th>\n",
       "      <td> USA-NY</td>\n",
       "      <td> USA-NYM-NEY</td>\n",
       "      <td> New York City-Manhattan</td>\n",
       "    </tr>\n",
       "    <tr>\n",
       "      <th>9 </th>\n",
       "      <td> USA-FL</td>\n",
       "      <td> USA-ORL-ORL</td>\n",
       "      <td>                 Orlando</td>\n",
       "    </tr>\n",
       "    <tr>\n",
       "      <th>10</th>\n",
       "      <td> USA-PA</td>\n",
       "      <td> USA-PHI-PHI</td>\n",
       "      <td>            Philadelphia</td>\n",
       "    </tr>\n",
       "    <tr>\n",
       "      <th>11</th>\n",
       "      <td> USA-OR</td>\n",
       "      <td> USA-POR-POR</td>\n",
       "      <td>                Portland</td>\n",
       "    </tr>\n",
       "    <tr>\n",
       "      <th>12</th>\n",
       "      <td> USA-NC</td>\n",
       "      <td> USA-RAL-RAL</td>\n",
       "      <td>                 Raleigh</td>\n",
       "    </tr>\n",
       "    <tr>\n",
       "      <th>13</th>\n",
       "      <td> USA-CA</td>\n",
       "      <td> USA-SAN-SAD</td>\n",
       "      <td>               San Diego</td>\n",
       "    </tr>\n",
       "    <tr>\n",
       "      <th>14</th>\n",
       "      <td> USA-WA</td>\n",
       "      <td> USA-SEA-SET</td>\n",
       "      <td>                 Seattle</td>\n",
       "    </tr>\n",
       "    <tr>\n",
       "      <th>15</th>\n",
       "      <td> USA-CA</td>\n",
       "      <td> USA-SFO-OAA</td>\n",
       "      <td>                 Oakland</td>\n",
       "    </tr>\n",
       "    <tr>\n",
       "      <th>16</th>\n",
       "      <td> USA-DC</td>\n",
       "      <td> USA-WAS-WSD</td>\n",
       "      <td>              Washington</td>\n",
       "    </tr>\n",
       "    <tr>\n",
       "      <th>17</th>\n",
       "      <td> USA-TX</td>\n",
       "      <td> USA-SAT-SAT</td>\n",
       "      <td>             San Antonio</td>\n",
       "    </tr>\n",
       "    <tr>\n",
       "      <th>18</th>\n",
       "      <td> USA-GA</td>\n",
       "      <td> USA-ATL-ATA</td>\n",
       "      <td>                 Atlanta</td>\n",
       "    </tr>\n",
       "    <tr>\n",
       "      <th>19</th>\n",
       "      <td> USA-TX</td>\n",
       "      <td> USA-AUT-AUS</td>\n",
       "      <td>                  Austin</td>\n",
       "    </tr>\n",
       "    <tr>\n",
       "      <th>20</th>\n",
       "      <td> USA-CA</td>\n",
       "      <td> USA-SAC-SAC</td>\n",
       "      <td>              Sacramento</td>\n",
       "    </tr>\n",
       "    <tr>\n",
       "      <th>21</th>\n",
       "      <td> USA-CA</td>\n",
       "      <td> USA-SFO-SNF</td>\n",
       "      <td>           San Francisco</td>\n",
       "    </tr>\n",
       "    <tr>\n",
       "      <th>22</th>\n",
       "      <td> USA-AZ</td>\n",
       "      <td> USA-PHX-PHO</td>\n",
       "      <td>                 Phoenix</td>\n",
       "    </tr>\n",
       "    <tr>\n",
       "      <th>23</th>\n",
       "      <td> USA-TX</td>\n",
       "      <td> USA-HOU-HOU</td>\n",
       "      <td>                 Houston</td>\n",
       "    </tr>\n",
       "    <tr>\n",
       "      <th>24</th>\n",
       "      <td> USA-CO</td>\n",
       "      <td> USA-DEN-DEN</td>\n",
       "      <td>                  Denver</td>\n",
       "    </tr>\n",
       "  </tbody>\n",
       "</table>\n",
       "</div>"
      ],
      "text/plain": [
       "   state_code    city_code                     city\n",
       "0      USA-MA  USA-BOS-BOT                   Boston\n",
       "1      USA-IL  USA-CHI-CHH                  Chicago\n",
       "2      USX-TX  USA-DAL-DLL                   Dallas\n",
       "3      USA-MI  USA-DET-DET                  Detroit\n",
       "4      USA-NV  USA-LAS-LAS                Las Vegas\n",
       "5      USA-CA  USA-LAX-LSN              Los Angeles\n",
       "6      USA-FL  USA-MIA-MIF                    Miami\n",
       "7      USA-MN  USA-MIN-MIA              Minneapolis\n",
       "8      USA-NY  USA-NYM-NEY  New York City-Manhattan\n",
       "9      USA-FL  USA-ORL-ORL                  Orlando\n",
       "10     USA-PA  USA-PHI-PHI             Philadelphia\n",
       "11     USA-OR  USA-POR-POR                 Portland\n",
       "12     USA-NC  USA-RAL-RAL                  Raleigh\n",
       "13     USA-CA  USA-SAN-SAD                San Diego\n",
       "14     USA-WA  USA-SEA-SET                  Seattle\n",
       "15     USA-CA  USA-SFO-OAA                  Oakland\n",
       "16     USA-DC  USA-WAS-WSD               Washington\n",
       "17     USA-TX  USA-SAT-SAT              San Antonio\n",
       "18     USA-GA  USA-ATL-ATA                  Atlanta\n",
       "19     USA-TX  USA-AUT-AUS                   Austin\n",
       "20     USA-CA  USA-SAC-SAC               Sacramento\n",
       "21     USA-CA  USA-SFO-SNF            San Francisco\n",
       "22     USA-AZ  USA-PHX-PHO                  Phoenix\n",
       "23     USA-TX  USA-HOU-HOU                  Houston\n",
       "24     USA-CO  USA-DEN-DEN                   Denver"
      ]
     },
     "execution_count": 6,
     "metadata": {},
     "output_type": "execute_result"
    }
   ],
   "source": [
    "cities = pd.read_csv('data/ongoing_cities.csv', header = False)"
   ]
  },
  {
   "cell_type": "code",
   "execution_count": 11,
   "metadata": {
    "collapsed": false
   },
   "outputs": [
    {
     "name": "stdout",
     "output_type": "stream",
     "text": [
      "0                      Boston\n",
      "1                     Chicago\n",
      "2                      Dallas\n",
      "3                     Detroit\n",
      "4                   Las Vegas\n",
      "5                 Los Angeles\n",
      "6                       Miami\n",
      "7                 Minneapolis\n",
      "8     New York City-Manhattan\n",
      "9                     Orlando\n",
      "10               Philadelphia\n",
      "11                   Portland\n",
      "12                    Raleigh\n",
      "13                  San Diego\n",
      "14                    Seattle\n",
      "15                    Oakland\n",
      "16                 Washington\n",
      "17                San Antonio\n",
      "18                    Atlanta\n",
      "19                     Austin\n",
      "20                 Sacramento\n",
      "21              San Francisco\n",
      "22                    Phoenix\n",
      "23                    Houston\n",
      "24                     Denver\n",
      "Name: city, dtype: object\n",
      "0                      Boston\n",
      "1                     Chicago\n",
      "2                      Dallas\n",
      "3                     Detroit\n",
      "4                   Las Vegas\n",
      "5                 Los Angeles\n",
      "6                       Miami\n",
      "7                 Minneapolis\n",
      "8     New York City-Manhattan\n",
      "9                     Orlando\n",
      "10               Philadelphia\n",
      "11                   Portland\n",
      "12                    Raleigh\n",
      "13                  San Diego\n",
      "14                    Seattle\n",
      "15                    Oakland\n",
      "16                 Washington\n",
      "17                San Antonio\n",
      "18                    Atlanta\n",
      "19                     Austin\n",
      "20                 Sacramento\n",
      "21              San Francisco\n",
      "22                    Phoenix\n",
      "23                    Houston\n",
      "24                     Denver\n",
      "Name: city, dtype: object\n",
      "0                      Boston\n",
      "1                     Chicago\n",
      "2                      Dallas\n",
      "3                     Detroit\n",
      "4                   Las Vegas\n",
      "5                 Los Angeles\n",
      "6                       Miami\n",
      "7                 Minneapolis\n",
      "8     New York City-Manhattan\n",
      "9                     Orlando\n",
      "10               Philadelphia\n",
      "11                   Portland\n",
      "12                    Raleigh\n",
      "13                  San Diego\n",
      "14                    Seattle\n",
      "15                    Oakland\n",
      "16                 Washington\n",
      "17                San Antonio\n",
      "18                    Atlanta\n",
      "19                     Austin\n",
      "20                 Sacramento\n",
      "21              San Francisco\n",
      "22                    Phoenix\n",
      "23                    Houston\n",
      "24                     Denver\n",
      "Name: city, dtype: object\n"
     ]
    }
   ],
   "source": [
    "for city in cities:\n",
    "    print cities.city"
   ]
  },
  {
   "cell_type": "code",
   "execution_count": 12,
   "metadata": {
    "collapsed": false
   },
   "outputs": [
    {
     "data": {
      "text/plain": [
       "0                      Boston\n",
       "1                     Chicago\n",
       "2                      Dallas\n",
       "3                     Detroit\n",
       "4                   Las Vegas\n",
       "5                 Los Angeles\n",
       "6                       Miami\n",
       "7                 Minneapolis\n",
       "8     New York City-Manhattan\n",
       "9                     Orlando\n",
       "10               Philadelphia\n",
       "11                   Portland\n",
       "12                    Raleigh\n",
       "13                  San Diego\n",
       "14                    Seattle\n",
       "15                    Oakland\n",
       "16                 Washington\n",
       "17                San Antonio\n",
       "18                    Atlanta\n",
       "19                     Austin\n",
       "20                 Sacramento\n",
       "21              San Francisco\n",
       "22                    Phoenix\n",
       "23                    Houston\n",
       "24                     Denver\n",
       "Name: city, dtype: object"
      ]
     },
     "execution_count": 12,
     "metadata": {},
     "output_type": "execute_result"
    }
   ],
   "source": [
    "cities.city"
   ]
  },
  {
   "cell_type": "code",
   "execution_count": 2,
   "metadata": {
    "collapsed": false
   },
   "outputs": [],
   "source": [
    "url = 'https://s3-us-west-2.amazonaws.com/hoodsjson/USA-CA/USA-SFO-SNF/2014-09-30/0.html'"
   ]
  },
  {
   "cell_type": "code",
   "execution_count": 3,
   "metadata": {
    "collapsed": false
   },
   "outputs": [
    {
     "name": "stdout",
     "output_type": "stream",
     "text": [
      "  Affordable  Newly Remodeled Great Loc. 3 Bedroom 2 Baths  \n",
      "2 BR Condo at Telegraph Landing with Stunning Bridge  Water Views\n",
      "Cottage Style, Executive Home\n",
      "2ND FL.,FACE AWAY ST.,REMODELED,LIGHTED, QUIET,2 BLOCKS TO UNION SQ.\n",
      "2nd FL., FACES ST.,NEW HWF, BRIGHT, SUNNY, 2 BLOCKS TO UNION SQUARE\n",
      "TopFlatwBreathtakenViews inSafeNeighborhd nrBART,GoogleShuttleStp,MUNI\n",
      "2ND FL.,FACE AWAY ST.,REMODELED,LIGHTED, QUIET,2 BLOCKS TO UNION SQ.\n",
      "BASEMENT LVL, 2/1, REMDLD APT.,QUIET, LIGHTED, 2 BLKS TO UNION SQUARE\n",
      "Contemporary Pacific Heights 2 bedroom, 2 bath condominium\n",
      "Furnished One Bedroom on Mission Street With Wifi\n"
     ]
    }
   ],
   "source": [
    "for apt in data[:10]:\n",
    "    print apt['heading']"
   ]
  },
  {
   "cell_type": "code",
   "execution_count": 10,
   "metadata": {
    "collapsed": false
   },
   "outputs": [],
   "source": [
    "state = cities.iloc[0].state_code\n",
    "city = cities.iloc[0].city_code\n",
    "date = '2014-09-29'\n",
    "i=0 \n",
    "url = \"https://s3-us-west-2.amazonaws.com/hoodsjson/%s/%s/%s/%s.html\" %(state, city, date, i)"
   ]
  },
  {
   "cell_type": "code",
   "execution_count": 75,
   "metadata": {
    "collapsed": false
   },
   "outputs": [],
   "source": [
    "#Function to iterate through dates\n",
    "def daterange(start_date, end_date):\n",
    "    for n in range(int ((end_date - start_date).days)):\n",
    "        single_date = start_date + timedelta(n)\n",
    "        yield single_date.strftime('%Y-%m-%d')"
   ]
  },
  {
   "cell_type": "code",
   "execution_count": 14,
   "metadata": {
    "collapsed": true
   },
   "outputs": [],
   "source": [
    "headers = [\"id\", \"header\", \"body\", \"bedrooms\", \"bathrooms\", \"sqft\", \n",
    "             \"timestamp\", \"price\", \"external_url\", \"lat\", \"lon\", \n",
    "             \"accuracy\", \"address\", \"parking\", \"washer_dryer\", \"pet\"]"
   ]
  },
  {
   "cell_type": "code",
   "execution_count": 16,
   "metadata": {
    "collapsed": false
   },
   "outputs": [],
   "source": [
    "df = pd.DataFrame(columns=headers)"
   ]
  },
  {
   "cell_type": "code",
   "execution_count": 34,
   "metadata": {
    "collapsed": false
   },
   "outputs": [],
   "source": [
    "url = 'https://s3-us-west-2.amazonaws.com/hoodsjson/USA-CA/USA-SFO-SNF/2014-09-30/0.html'\n",
    "json_df = pd.read_json(url)\n",
    "    "
   ]
  },
  {
   "cell_type": "code",
   "execution_count": 49,
   "metadata": {
    "collapsed": false
   },
   "outputs": [
    {
     "data": {
      "text/plain": [
       "{u'available': u'oct 20',\n",
       " u'bathrooms': u'2ba',\n",
       " u'bedrooms': u'3br',\n",
       " u'cats': u'NO',\n",
       " u'dogs': u'NO',\n",
       " u'in_law': u'YES',\n",
       " u'latlong_source': u'In Posting',\n",
       " u'no_smoking': u'YES',\n",
       " u'proxy_ip': u'111.10.99.34:8123',\n",
       " u'source_account': u'rqgz9-4690569881@hous.craigslist.org',\n",
       " u'source_cat': u'hhh',\n",
       " u'source_continent': u'USA',\n",
       " u'source_heading': u' ~~ Affordable &amp; Newly Remodeled Great Loc. 3 Bedroom 2 Baths ~~ ',\n",
       " u'source_loc': u'sfbay',\n",
       " u'source_map_google': u'https://maps.google.com/?q=loc%3A+Country+Club+Drive+at+Berkshire+San+Francisco+Ca+US',\n",
       " u'source_map_yahoo': u'http://maps.yahoo.com/maps_result?addr=Country+Club+Drive+at+Berkshire&amp;csz=San+Francisco+Ca&amp;country=US',\n",
       " u'source_neighborhood': u'sunset / parkside',\n",
       " u'source_state': u'California',\n",
       " u'source_subcat': u'apa|apa',\n",
       " u'source_subloc': u'sfc'}"
      ]
     },
     "execution_count": 49,
     "metadata": {},
     "output_type": "execute_result"
    }
   ],
   "source": [
    "json_df.annotations[0]"
   ]
  },
  {
   "cell_type": "code",
   "execution_count": 59,
   "metadata": {
    "collapsed": false
   },
   "outputs": [
    {
     "name": "stdout",
     "output_type": "stream",
     "text": [
      "3\n",
      "2\n",
      "{u'bathrooms': u'1ba', u'source_account': u'qjc6n-4646621294@hous.craigslist.org', u'source_neighborhood': u'nob hill', u'proxy_ip': u'27.147.189.196:9064', u'year': u'2025', u'original_posting_date': u'1409556449', u'apartment': u'YES', u'source_cat': u'hhh', u'source_map_google': u'https://maps.google.com/?q=loc%3A+%37%39%37+BUSH+ST%2E+SAN+FRANCISCO+CA+US', u'dogs': u'NO', u'street_parking': u'YES', u'available': u'sep 01', u'source_subloc': u'sfc', u'bedrooms': u'0br', u'sale_dates': u'2014-10-04,2014-10-11,2014-10-18', u'source_loc': u'sfbay', u'latlong_source': u'In Posting', u'source_continent': u'USA', u'phone': u'4159863929', u'source_state': u'California', u'source_subcat': u'apa|apa', u'source_map_yahoo': u'http://maps.yahoo.com/maps_result?addr=%37%39%37+BUSH+ST%2E&amp;csz=SAN+FRANCISCO+CA&amp;country=US', u'source_heading': u'2nd FL., FACES ST.,NEW HWF, BRIGHT, SUNNY, 2 BLOCKS TO UNION SQUARE!', u'cats': u'NO'}\n"
     ]
    }
   ],
   "source": [
    "print int(json_df.annotations[0]['bedrooms'][0])\n",
    "print int(json_df.annotations[0]['bathrooms'][0])\n",
    "print json_df.annotations[4]"
   ]
  },
  {
   "cell_type": "code",
   "execution_count": 63,
   "metadata": {
    "collapsed": false
   },
   "outputs": [
    {
     "name": "stdout",
     "output_type": "stream",
     "text": [
      "no street parking\n"
     ]
    }
   ],
   "source": [
    "if 'street_parking' in json_df.annotations[0]:\n",
    "    print 'street parking'\n",
    "else:\n",
    "    print 'no street parking' "
   ]
  },
  {
   "cell_type": "code",
   "execution_count": 65,
   "metadata": {
    "collapsed": false
   },
   "outputs": [
    {
     "data": {
      "text/plain": [
       "['id',\n",
       " 'header',\n",
       " 'body',\n",
       " 'bedrooms',\n",
       " 'bathrooms',\n",
       " 'sqft',\n",
       " 'timestamp',\n",
       " 'price',\n",
       " 'external_url',\n",
       " 'lat',\n",
       " 'lon',\n",
       " 'accuracy',\n",
       " 'address',\n",
       " 'parking',\n",
       " 'washer_dryer',\n",
       " 'pet']"
      ]
     },
     "execution_count": 65,
     "metadata": {},
     "output_type": "execute_result"
    }
   ],
   "source": [
    "headers"
   ]
  },
  {
   "cell_type": "code",
   "execution_count": 66,
   "metadata": {
    "collapsed": true
   },
   "outputs": [],
   "source": [
    "results_df = pd.DataFrame(columns = headers, index = xrange(len(json_df)))"
   ]
  },
  {
   "cell_type": "code",
   "execution_count": 85,
   "metadata": {
    "collapsed": false
   },
   "outputs": [
    {
     "data": {
      "text/html": [
       "<div style=\"max-height:1000px;max-width:1500px;overflow:auto;\">\n",
       "<table border=\"1\" class=\"dataframe\">\n",
       "  <thead>\n",
       "    <tr style=\"text-align: right;\">\n",
       "      <th></th>\n",
       "      <th>id</th>\n",
       "      <th>header</th>\n",
       "      <th>body</th>\n",
       "      <th>bedrooms</th>\n",
       "      <th>bathrooms</th>\n",
       "      <th>sqft</th>\n",
       "      <th>timestamp</th>\n",
       "      <th>price</th>\n",
       "      <th>external_url</th>\n",
       "      <th>lat</th>\n",
       "      <th>lon</th>\n",
       "      <th>accuracy</th>\n",
       "      <th>address</th>\n",
       "      <th>parking</th>\n",
       "      <th>washer_dryer</th>\n",
       "      <th>pet</th>\n",
       "    </tr>\n",
       "  </thead>\n",
       "  <tbody>\n",
       "    <tr>\n",
       "      <th>0</th>\n",
       "      <td> NaN</td>\n",
       "      <td> NaN</td>\n",
       "      <td> body</td>\n",
       "      <td> NaN</td>\n",
       "      <td> NaN</td>\n",
       "      <td> NaN</td>\n",
       "      <td> NaN</td>\n",
       "      <td> NaN</td>\n",
       "      <td> NaN</td>\n",
       "      <td> NaN</td>\n",
       "      <td> NaN</td>\n",
       "      <td> NaN</td>\n",
       "      <td> NaN</td>\n",
       "      <td> NaN</td>\n",
       "      <td> NaN</td>\n",
       "      <td> NaN</td>\n",
       "    </tr>\n",
       "    <tr>\n",
       "      <th>1</th>\n",
       "      <td> NaN</td>\n",
       "      <td> NaN</td>\n",
       "      <td>  NaN</td>\n",
       "      <td> NaN</td>\n",
       "      <td> NaN</td>\n",
       "      <td> NaN</td>\n",
       "      <td> NaN</td>\n",
       "      <td> NaN</td>\n",
       "      <td> NaN</td>\n",
       "      <td> NaN</td>\n",
       "      <td> NaN</td>\n",
       "      <td> NaN</td>\n",
       "      <td> NaN</td>\n",
       "      <td> NaN</td>\n",
       "      <td> NaN</td>\n",
       "      <td> NaN</td>\n",
       "    </tr>\n",
       "    <tr>\n",
       "      <th>2</th>\n",
       "      <td> NaN</td>\n",
       "      <td> NaN</td>\n",
       "      <td>  NaN</td>\n",
       "      <td> NaN</td>\n",
       "      <td> NaN</td>\n",
       "      <td> NaN</td>\n",
       "      <td> NaN</td>\n",
       "      <td> NaN</td>\n",
       "      <td> NaN</td>\n",
       "      <td> NaN</td>\n",
       "      <td> NaN</td>\n",
       "      <td> NaN</td>\n",
       "      <td> NaN</td>\n",
       "      <td> NaN</td>\n",
       "      <td> NaN</td>\n",
       "      <td> NaN</td>\n",
       "    </tr>\n",
       "    <tr>\n",
       "      <th>3</th>\n",
       "      <td> NaN</td>\n",
       "      <td> NaN</td>\n",
       "      <td>  NaN</td>\n",
       "      <td> NaN</td>\n",
       "      <td> NaN</td>\n",
       "      <td> NaN</td>\n",
       "      <td> NaN</td>\n",
       "      <td> NaN</td>\n",
       "      <td> NaN</td>\n",
       "      <td> NaN</td>\n",
       "      <td> NaN</td>\n",
       "      <td> NaN</td>\n",
       "      <td> NaN</td>\n",
       "      <td> NaN</td>\n",
       "      <td> NaN</td>\n",
       "      <td> NaN</td>\n",
       "    </tr>\n",
       "    <tr>\n",
       "      <th>4</th>\n",
       "      <td> NaN</td>\n",
       "      <td> NaN</td>\n",
       "      <td>  NaN</td>\n",
       "      <td> NaN</td>\n",
       "      <td> NaN</td>\n",
       "      <td> NaN</td>\n",
       "      <td> NaN</td>\n",
       "      <td> NaN</td>\n",
       "      <td> NaN</td>\n",
       "      <td> NaN</td>\n",
       "      <td> NaN</td>\n",
       "      <td> NaN</td>\n",
       "      <td> NaN</td>\n",
       "      <td> NaN</td>\n",
       "      <td> NaN</td>\n",
       "      <td> NaN</td>\n",
       "    </tr>\n",
       "  </tbody>\n",
       "</table>\n",
       "</div>"
      ],
      "text/plain": [
       "    id header  body bedrooms bathrooms sqft timestamp price external_url  lat  \\\n",
       "0  NaN    NaN  body      NaN       NaN  NaN       NaN   NaN          NaN  NaN   \n",
       "1  NaN    NaN   NaN      NaN       NaN  NaN       NaN   NaN          NaN  NaN   \n",
       "2  NaN    NaN   NaN      NaN       NaN  NaN       NaN   NaN          NaN  NaN   \n",
       "3  NaN    NaN   NaN      NaN       NaN  NaN       NaN   NaN          NaN  NaN   \n",
       "4  NaN    NaN   NaN      NaN       NaN  NaN       NaN   NaN          NaN  NaN   \n",
       "\n",
       "   lon accuracy address parking washer_dryer  pet  \n",
       "0  NaN      NaN     NaN     NaN          NaN  NaN  \n",
       "1  NaN      NaN     NaN     NaN          NaN  NaN  \n",
       "2  NaN      NaN     NaN     NaN          NaN  NaN  \n",
       "3  NaN      NaN     NaN     NaN          NaN  NaN  \n",
       "4  NaN      NaN     NaN     NaN          NaN  NaN  "
      ]
     },
     "execution_count": 85,
     "metadata": {},
     "output_type": "execute_result"
    }
   ],
   "source": [
    "results_df['body'][0] = 'body'\n",
    "results_df.head()"
   ]
  },
  {
   "cell_type": "code",
   "execution_count": 83,
   "metadata": {
    "collapsed": false
   },
   "outputs": [
    {
     "data": {
      "text/plain": [
       "0   2014-09-29 07:57:15\n",
       "1   2014-09-29 08:40:52\n",
       "2   2014-09-29 08:25:28\n",
       "3   2014-09-29 08:57:29\n",
       "4   2014-09-29 08:57:36\n",
       "5   2014-09-29 08:57:24\n",
       "6   2014-09-29 08:57:30\n",
       "7   2014-09-29 08:57:30\n",
       "8   2014-09-29 08:13:15\n",
       "9   2014-09-29 09:21:26\n",
       "Name: timestamp, dtype: datetime64[ns]"
      ]
     },
     "execution_count": 83,
     "metadata": {},
     "output_type": "execute_result"
    }
   ],
   "source": [
    "pd.to_datetime(json_df['timestamp'], unit='s')[:10]"
   ]
  },
  {
   "cell_type": "code",
   "execution_count": 102,
   "metadata": {
    "collapsed": false
   },
   "outputs": [],
   "source": [
    "c = json_df['source'] == 'CRAIG'\n",
    "len(json_df[c])\n",
    "json_df = json_df[c]"
   ]
  },
  {
   "cell_type": "code",
   "execution_count": 103,
   "metadata": {
    "collapsed": false
   },
   "outputs": [
    {
     "data": {
      "text/plain": [
       "498"
      ]
     },
     "execution_count": 103,
     "metadata": {},
     "output_type": "execute_result"
    }
   ],
   "source": [
    "len(json_df)"
   ]
  },
  {
   "cell_type": "code",
   "execution_count": 104,
   "metadata": {
    "collapsed": false
   },
   "outputs": [
    {
     "data": {
      "text/plain": [
       "0"
      ]
     },
     "execution_count": 104,
     "metadata": {},
     "output_type": "execute_result"
    }
   ],
   "source": [
    "url = 'https://s3-us-west-2.amazonaws.com/hoodsjson/USA-CA/USA-SFO-SNF/2014-09-30/2.html'\n",
    "empty_df = pd.read_json(url)\n",
    "len(empty_df)"
   ]
  },
  {
   "cell_type": "code",
   "execution_count": null,
   "metadata": {
    "collapsed": true
   },
   "outputs": [],
   "source": []
  }
 ],
 "metadata": {
  "kernelspec": {
   "display_name": "Python 2",
   "language": "python",
   "name": "python2"
  },
  "language_info": {
   "codemirror_mode": {
    "name": "ipython",
    "version": 2
   },
   "file_extension": ".py",
   "mimetype": "text/x-python",
   "name": "python",
   "nbconvert_exporter": "python",
   "pygments_lexer": "ipython2",
   "version": "2.7.9"
  }
 },
 "nbformat": 4,
 "nbformat_minor": 0
}
