{
 "cells": [
  {
   "cell_type": "code",
   "execution_count": 30,
   "metadata": {
    "collapsed": false
   },
   "outputs": [],
   "source": [
    "import pandas as pd\n",
    "from datetime import timedelta, date\n",
    "from get_data import daterange, get_data, parse_info\n",
    "import urllib2"
   ]
  },
  {
   "cell_type": "code",
   "execution_count": 57,
   "metadata": {
    "collapsed": false
   },
   "outputs": [],
   "source": [
    "cities = pd.read_csv('data/ongoing_cities.csv', header = False)"
   ]
  },
  {
   "cell_type": "code",
   "execution_count": 7,
   "metadata": {
    "collapsed": false
   },
   "outputs": [],
   "source": [
    "cities = cities[(cities['city']=='San Francisco')]"
   ]
  },
  {
   "cell_type": "code",
   "execution_count": 26,
   "metadata": {
    "collapsed": false
   },
   "outputs": [],
   "source": [
    "city = cities.city_code.values[0]"
   ]
  },
  {
   "cell_type": "code",
   "execution_count": 27,
   "metadata": {
    "collapsed": false
   },
   "outputs": [
    {
     "data": {
      "text/plain": [
       "'USA-SFO-SNF'"
      ]
     },
     "execution_count": 27,
     "metadata": {},
     "output_type": "execute_result"
    }
   ],
   "source": [
    "city"
   ]
  },
  {
   "cell_type": "code",
   "execution_count": 3,
   "metadata": {
    "collapsed": false
   },
   "outputs": [],
   "source": [
    "url = 'https://s3-us-west-2.amazonaws.com/hoodsjson/USA-CA/USA-SFO-SNF/2014-09-30/0.html'"
   ]
  },
  {
   "cell_type": "code",
   "execution_count": 4,
   "metadata": {
    "collapsed": false
   },
   "outputs": [],
   "source": [
    "json_df = pd.read_json(url)    "
   ]
  },
  {
   "cell_type": "code",
   "execution_count": 5,
   "metadata": {
    "collapsed": false
   },
   "outputs": [],
   "source": [
    "condition = json_df['source'] == 'CRAIG'\n",
    "craig_df = json_df[condition]\n",
    "craig_df = craig_df.reset_index()\n",
    "del craig_df['index']"
   ]
  },
  {
   "cell_type": "code",
   "execution_count": 6,
   "metadata": {
    "collapsed": false
   },
   "outputs": [],
   "source": [
    "cols = ['heading', 'body', 'price', 'lat', 'long', 'region', 'neighborhood', \n",
    "        'beds', 'baths', 'parking', 'washer_dryer']"
   ]
  },
  {
   "cell_type": "code",
   "execution_count": 7,
   "metadata": {
    "collapsed": false
   },
   "outputs": [],
   "source": [
    "results_df = parse_info(craig_df, headers = cols)"
   ]
  },
  {
   "cell_type": "code",
   "execution_count": 9,
   "metadata": {
    "collapsed": false
   },
   "outputs": [
    {
     "name": "stdout",
     "output_type": "stream",
     "text": [
      "<class 'pandas.core.frame.DataFrame'>\n",
      "Int64Index: 498 entries, 0 to 497\n",
      "Data columns (total 12 columns):\n",
      "heading         498 non-null object\n",
      "body            498 non-null object\n",
      "price           495 non-null float64\n",
      "lat             498 non-null object\n",
      "long            498 non-null object\n",
      "region          497 non-null object\n",
      "neighborhood    490 non-null object\n",
      "beds            497 non-null object\n",
      "baths           465 non-null object\n",
      "parking         498 non-null object\n",
      "washer_dryer    498 non-null object\n",
      "date            498 non-null datetime64[ns]\n",
      "dtypes: datetime64[ns](1), float64(1), object(10)\n",
      "memory usage: 50.6+ KB\n"
     ]
    }
   ],
   "source": [
    "results_df.info()"
   ]
  },
  {
   "cell_type": "code",
   "execution_count": 47,
   "metadata": {
    "collapsed": false
   },
   "outputs": [],
   "source": [
    "sfdf = pd.read_csv('data/csvs/USA-SFO-SNF_USA-CA.csv', header=False)"
   ]
  },
  {
   "cell_type": "code",
   "execution_count": 53,
   "metadata": {
    "collapsed": false
   },
   "outputs": [
    {
     "data": {
      "text/plain": [
       "(227756, 13)"
      ]
     },
     "execution_count": 53,
     "metadata": {},
     "output_type": "execute_result"
    }
   ],
   "source": [
    "sfdf.shape"
   ]
  },
  {
   "cell_type": "code",
   "execution_count": 51,
   "metadata": {
    "collapsed": false
   },
   "outputs": [
    {
     "data": {
      "text/plain": [
       "185130"
      ]
     },
     "execution_count": 51,
     "metadata": {},
     "output_type": "execute_result"
    }
   ],
   "source": [
    "len(sfdf.id.unique())"
   ]
  },
  {
   "cell_type": "code",
   "execution_count": 56,
   "metadata": {
    "collapsed": false
   },
   "outputs": [
    {
     "data": {
      "text/plain": [
       "sfc    208587\n",
       "nby      8421\n",
       "sby      5727\n",
       "eby      2243\n",
       "scz      1187\n",
       "pen      1056\n",
       "grg        14\n",
       "gbs        13\n",
       "lgb        13\n",
       "csd         9\n",
       "oah         4\n",
       "chc         3\n",
       "wst         3\n",
       "lac         3\n",
       "mnh         2\n",
       "mdc         2\n",
       "mlt         1\n",
       "see         1\n",
       "hnp         1\n",
       "clk         1\n",
       "wvl         1\n",
       "doc         1\n",
       "dtype: int64"
      ]
     },
     "execution_count": 56,
     "metadata": {},
     "output_type": "execute_result"
    }
   ],
   "source": [
    "sfdf.region.value_counts()"
   ]
  },
  {
   "cell_type": "code",
   "execution_count": 73,
   "metadata": {
    "collapsed": false
   },
   "outputs": [
    {
     "data": {
      "text/plain": [
       "'\\n Elegant and Charming Two Bedroom Corner Unit!\\n 297 18th Ave, San Francisco, CA, 94121\\n Schedule a Tour: http://www.apartmentsrm.com/properties/2025/?source=C\\n Contact Us: http://www.apartmentsrm.com/tenant/contact/2025?source=C\\n Highlights\\n Bedrooms: 2\\n Bathrooms (full/half): 1/0\\n Square footage:\\n Rent: $3,700 per month\\n Deposit: $5,550\\n Parking: 1 Garage Spot Available for $295\\n Pets: No Pets.\\n Non-smoking property\\n Description\\n Features Include: - Large eat-in kitchen with ample counter space and cabinet space. Modern cherry cabinetry, granite counters, gas stove, refrigerator, microwave, and dishwasher. - Laundry room attached to kitchen. Full size washer and dryer - 2 storage closets in hallway - Large spacious bathroom with granite from floor to ceiling - 2 Large Bedrooms with great light - Spacious living room with excellent natural light and brick fireplace - Dining room off the living room with french doors. Potential to be a 3rd bedroom. - Hardwood floors - Crown Molding - Loads of character and Charm A garage is available for $295 a month. Please no pets.\\n Features\\n Crown Molding\\n Dishwasher\\n Fireplace\\n Gas Stove\\n Granite Countertop\\n Hardwood Floor\\n In-Unit Washer / Dryer\\n Microwave\\n Open Kitchen / Living Area\\n Stainless Steel Appliances\\n Storage Space\\n Walk-In Closet\\n Utilities\\n Utilities Not Included\\n Lease\\n Length: 12 months\\n Available: Immediately\\n 297 18th Ave, San Francisco, CA, 94121\\n Schedule a Tour: http://www.apartmentsrm.com/properties/2025/?source=C\\n Contact Us: http://www.apartmentsrm.com/tenant/contact/2025?source=C\\n California Bureau of Real Estate, License #01913789\\nRMID:2025-\\n '"
      ]
     },
     "execution_count": 73,
     "metadata": {},
     "output_type": "execute_result"
    }
   ],
   "source": [
    "sfdf.body[9]"
   ]
  },
  {
   "cell_type": "code",
   "execution_count": 74,
   "metadata": {
    "collapsed": true
   },
   "outputs": [],
   "source": [
    "sfdf = sfdf[(sfdf['region']=='sfc')]"
   ]
  },
  {
   "cell_type": "code",
   "execution_count": null,
   "metadata": {
    "collapsed": true
   },
   "outputs": [],
   "source": []
  }
 ],
 "metadata": {
  "kernelspec": {
   "display_name": "Python 2",
   "language": "python",
   "name": "python2"
  },
  "language_info": {
   "codemirror_mode": {
    "name": "ipython",
    "version": 2
   },
   "file_extension": ".py",
   "mimetype": "text/x-python",
   "name": "python",
   "nbconvert_exporter": "python",
   "pygments_lexer": "ipython2",
   "version": "2.7.9"
  }
 },
 "nbformat": 4,
 "nbformat_minor": 0
}
