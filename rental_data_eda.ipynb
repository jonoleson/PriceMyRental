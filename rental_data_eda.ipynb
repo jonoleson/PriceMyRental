{
 "cells": [
  {
   "cell_type": "code",
   "execution_count": 43,
   "metadata": {
    "collapsed": false
   },
   "outputs": [],
   "source": [
    "import pandas as pd\n",
    "from datetime import timedelta, date\n",
    "from get_data import daterange, get_data, parse_info"
   ]
  },
  {
   "cell_type": "code",
   "execution_count": 40,
   "metadata": {
    "collapsed": false
   },
   "outputs": [],
   "source": [
    "cities = pd.read_csv('data/ongoing_cities.csv', header = False)"
   ]
  },
  {
   "cell_type": "code",
   "execution_count": 41,
   "metadata": {
    "collapsed": false
   },
   "outputs": [
    {
     "data": {
      "text/html": [
       "<div style=\"max-height:1000px;max-width:1500px;overflow:auto;\">\n",
       "<table border=\"1\" class=\"dataframe\">\n",
       "  <thead>\n",
       "    <tr style=\"text-align: right;\">\n",
       "      <th></th>\n",
       "      <th>state_code</th>\n",
       "      <th>city_code</th>\n",
       "      <th>city</th>\n",
       "    </tr>\n",
       "  </thead>\n",
       "  <tbody>\n",
       "    <tr>\n",
       "      <th>0 </th>\n",
       "      <td> USA-MA</td>\n",
       "      <td> USA-BOS-BOT</td>\n",
       "      <td>                  Boston</td>\n",
       "    </tr>\n",
       "    <tr>\n",
       "      <th>1 </th>\n",
       "      <td> USA-IL</td>\n",
       "      <td> USA-CHI-CHH</td>\n",
       "      <td>                 Chicago</td>\n",
       "    </tr>\n",
       "    <tr>\n",
       "      <th>2 </th>\n",
       "      <td> USX-TX</td>\n",
       "      <td> USA-DAL-DLL</td>\n",
       "      <td>                  Dallas</td>\n",
       "    </tr>\n",
       "    <tr>\n",
       "      <th>3 </th>\n",
       "      <td> USA-MI</td>\n",
       "      <td> USA-DET-DET</td>\n",
       "      <td>                 Detroit</td>\n",
       "    </tr>\n",
       "    <tr>\n",
       "      <th>4 </th>\n",
       "      <td> USA-NV</td>\n",
       "      <td> USA-LAS-LAS</td>\n",
       "      <td>               Las Vegas</td>\n",
       "    </tr>\n",
       "    <tr>\n",
       "      <th>5 </th>\n",
       "      <td> USA-CA</td>\n",
       "      <td> USA-LAX-LSN</td>\n",
       "      <td>             Los Angeles</td>\n",
       "    </tr>\n",
       "    <tr>\n",
       "      <th>6 </th>\n",
       "      <td> USA-FL</td>\n",
       "      <td> USA-MIA-MIF</td>\n",
       "      <td>                   Miami</td>\n",
       "    </tr>\n",
       "    <tr>\n",
       "      <th>7 </th>\n",
       "      <td> USA-MN</td>\n",
       "      <td> USA-MIN-MIA</td>\n",
       "      <td>             Minneapolis</td>\n",
       "    </tr>\n",
       "    <tr>\n",
       "      <th>8 </th>\n",
       "      <td> USA-NY</td>\n",
       "      <td> USA-NYM-NEY</td>\n",
       "      <td> New York City-Manhattan</td>\n",
       "    </tr>\n",
       "    <tr>\n",
       "      <th>9 </th>\n",
       "      <td> USA-FL</td>\n",
       "      <td> USA-ORL-ORL</td>\n",
       "      <td>                 Orlando</td>\n",
       "    </tr>\n",
       "    <tr>\n",
       "      <th>10</th>\n",
       "      <td> USA-PA</td>\n",
       "      <td> USA-PHI-PHI</td>\n",
       "      <td>            Philadelphia</td>\n",
       "    </tr>\n",
       "    <tr>\n",
       "      <th>11</th>\n",
       "      <td> USA-OR</td>\n",
       "      <td> USA-POR-POR</td>\n",
       "      <td>                Portland</td>\n",
       "    </tr>\n",
       "    <tr>\n",
       "      <th>12</th>\n",
       "      <td> USA-NC</td>\n",
       "      <td> USA-RAL-RAL</td>\n",
       "      <td>                 Raleigh</td>\n",
       "    </tr>\n",
       "    <tr>\n",
       "      <th>13</th>\n",
       "      <td> USA-CA</td>\n",
       "      <td> USA-SAN-SAD</td>\n",
       "      <td>               San Diego</td>\n",
       "    </tr>\n",
       "    <tr>\n",
       "      <th>14</th>\n",
       "      <td> USA-WA</td>\n",
       "      <td> USA-SEA-SET</td>\n",
       "      <td>                 Seattle</td>\n",
       "    </tr>\n",
       "    <tr>\n",
       "      <th>15</th>\n",
       "      <td> USA-CA</td>\n",
       "      <td> USA-SFO-OAA</td>\n",
       "      <td>                 Oakland</td>\n",
       "    </tr>\n",
       "    <tr>\n",
       "      <th>16</th>\n",
       "      <td> USA-DC</td>\n",
       "      <td> USA-WAS-WSD</td>\n",
       "      <td>              Washington</td>\n",
       "    </tr>\n",
       "    <tr>\n",
       "      <th>17</th>\n",
       "      <td> USA-TX</td>\n",
       "      <td> USA-SAT-SAT</td>\n",
       "      <td>             San Antonio</td>\n",
       "    </tr>\n",
       "    <tr>\n",
       "      <th>18</th>\n",
       "      <td> USA-GA</td>\n",
       "      <td> USA-ATL-ATA</td>\n",
       "      <td>                 Atlanta</td>\n",
       "    </tr>\n",
       "    <tr>\n",
       "      <th>19</th>\n",
       "      <td> USA-TX</td>\n",
       "      <td> USA-AUT-AUS</td>\n",
       "      <td>                  Austin</td>\n",
       "    </tr>\n",
       "    <tr>\n",
       "      <th>20</th>\n",
       "      <td> USA-CA</td>\n",
       "      <td> USA-SAC-SAC</td>\n",
       "      <td>              Sacramento</td>\n",
       "    </tr>\n",
       "    <tr>\n",
       "      <th>21</th>\n",
       "      <td> USA-CA</td>\n",
       "      <td> USA-SFO-SNF</td>\n",
       "      <td>           San Francisco</td>\n",
       "    </tr>\n",
       "    <tr>\n",
       "      <th>22</th>\n",
       "      <td> USA-AZ</td>\n",
       "      <td> USA-PHX-PHO</td>\n",
       "      <td>                 Phoenix</td>\n",
       "    </tr>\n",
       "    <tr>\n",
       "      <th>23</th>\n",
       "      <td> USA-TX</td>\n",
       "      <td> USA-HOU-HOU</td>\n",
       "      <td>                 Houston</td>\n",
       "    </tr>\n",
       "    <tr>\n",
       "      <th>24</th>\n",
       "      <td> USA-CO</td>\n",
       "      <td> USA-DEN-DEN</td>\n",
       "      <td>                  Denver</td>\n",
       "    </tr>\n",
       "  </tbody>\n",
       "</table>\n",
       "</div>"
      ],
      "text/plain": [
       "   state_code    city_code                     city\n",
       "0      USA-MA  USA-BOS-BOT                   Boston\n",
       "1      USA-IL  USA-CHI-CHH                  Chicago\n",
       "2      USX-TX  USA-DAL-DLL                   Dallas\n",
       "3      USA-MI  USA-DET-DET                  Detroit\n",
       "4      USA-NV  USA-LAS-LAS                Las Vegas\n",
       "5      USA-CA  USA-LAX-LSN              Los Angeles\n",
       "6      USA-FL  USA-MIA-MIF                    Miami\n",
       "7      USA-MN  USA-MIN-MIA              Minneapolis\n",
       "8      USA-NY  USA-NYM-NEY  New York City-Manhattan\n",
       "9      USA-FL  USA-ORL-ORL                  Orlando\n",
       "10     USA-PA  USA-PHI-PHI             Philadelphia\n",
       "11     USA-OR  USA-POR-POR                 Portland\n",
       "12     USA-NC  USA-RAL-RAL                  Raleigh\n",
       "13     USA-CA  USA-SAN-SAD                San Diego\n",
       "14     USA-WA  USA-SEA-SET                  Seattle\n",
       "15     USA-CA  USA-SFO-OAA                  Oakland\n",
       "16     USA-DC  USA-WAS-WSD               Washington\n",
       "17     USA-TX  USA-SAT-SAT              San Antonio\n",
       "18     USA-GA  USA-ATL-ATA                  Atlanta\n",
       "19     USA-TX  USA-AUT-AUS                   Austin\n",
       "20     USA-CA  USA-SAC-SAC               Sacramento\n",
       "21     USA-CA  USA-SFO-SNF            San Francisco\n",
       "22     USA-AZ  USA-PHX-PHO                  Phoenix\n",
       "23     USA-TX  USA-HOU-HOU                  Houston\n",
       "24     USA-CO  USA-DEN-DEN                   Denver"
      ]
     },
     "execution_count": 41,
     "metadata": {},
     "output_type": "execute_result"
    }
   ],
   "source": [
    "cities"
   ]
  },
  {
   "cell_type": "code",
   "execution_count": 3,
   "metadata": {
    "collapsed": false
   },
   "outputs": [],
   "source": [
    "url = 'https://s3-us-west-2.amazonaws.com/hoodsjson/USA-CA/USA-SFO-SNF/2014-09-30/0.html'"
   ]
  },
  {
   "cell_type": "code",
   "execution_count": 4,
   "metadata": {
    "collapsed": false
   },
   "outputs": [],
   "source": [
    "json_df = pd.read_json(url)    "
   ]
  },
  {
   "cell_type": "code",
   "execution_count": 5,
   "metadata": {
    "collapsed": false
   },
   "outputs": [],
   "source": [
    "condition = json_df['source'] == 'CRAIG'\n",
    "craig_df = json_df[condition]\n",
    "craig_df = craig_df.reset_index()\n",
    "del craig_df['index']"
   ]
  },
  {
   "cell_type": "code",
   "execution_count": 6,
   "metadata": {
    "collapsed": false
   },
   "outputs": [],
   "source": [
    "cols = ['heading', 'body', 'price', 'lat', 'long', 'region', 'neighborhood', \n",
    "        'beds', 'baths', 'parking', 'washer_dryer']"
   ]
  },
  {
   "cell_type": "code",
   "execution_count": 7,
   "metadata": {
    "collapsed": false
   },
   "outputs": [],
   "source": [
    "results_df = parse_info(craig_df, headers = cols)"
   ]
  },
  {
   "cell_type": "code",
   "execution_count": 9,
   "metadata": {
    "collapsed": false
   },
   "outputs": [
    {
     "name": "stdout",
     "output_type": "stream",
     "text": [
      "<class 'pandas.core.frame.DataFrame'>\n",
      "Int64Index: 498 entries, 0 to 497\n",
      "Data columns (total 12 columns):\n",
      "heading         498 non-null object\n",
      "body            498 non-null object\n",
      "price           495 non-null float64\n",
      "lat             498 non-null object\n",
      "long            498 non-null object\n",
      "region          497 non-null object\n",
      "neighborhood    490 non-null object\n",
      "beds            497 non-null object\n",
      "baths           465 non-null object\n",
      "parking         498 non-null object\n",
      "washer_dryer    498 non-null object\n",
      "date            498 non-null datetime64[ns]\n",
      "dtypes: datetime64[ns](1), float64(1), object(10)\n",
      "memory usage: 50.6+ KB\n"
     ]
    }
   ],
   "source": [
    "results_df.info()"
   ]
  },
  {
   "cell_type": "code",
   "execution_count": 11,
   "metadata": {
    "collapsed": false
   },
   "outputs": [],
   "source": [
    "start = date(2014, 9, 28)\n",
    "end = date(2014, 9, 30)"
   ]
  },
  {
   "cell_type": "code",
   "execution_count": 44,
   "metadata": {
    "collapsed": false
   },
   "outputs": [
    {
     "ename": "TypeError",
     "evalue": "parser_f() got an unexpected keyword argument 'headers'",
     "output_type": "error",
     "traceback": [
      "\u001b[0;31m---------------------------------------------------------------------------\u001b[0m",
      "\u001b[0;31mTypeError\u001b[0m                                 Traceback (most recent call last)",
      "\u001b[0;32m<ipython-input-44-f92aa448820d>\u001b[0m in \u001b[0;36m<module>\u001b[0;34m()\u001b[0m\n\u001b[0;32m----> 1\u001b[0;31m \u001b[0mget_data\u001b[0m\u001b[0;34m(\u001b[0m\u001b[0mstart\u001b[0m\u001b[0;34m,\u001b[0m \u001b[0mend\u001b[0m\u001b[0;34m)\u001b[0m\u001b[0;34m\u001b[0m\u001b[0m\n\u001b[0m",
      "\u001b[0;32m/Users/jonoleson/galvanize_work/PriceMyRental/get_data.py\u001b[0m in \u001b[0;36mget_data\u001b[0;34m(start_date, end_date)\u001b[0m\n\u001b[1;32m     14\u001b[0m   \u001b[0;31m#Get dataframe of cities\u001b[0m\u001b[0;34m\u001b[0m\u001b[0;34m\u001b[0m\u001b[0m\n\u001b[1;32m     15\u001b[0m   \u001b[0mcities\u001b[0m \u001b[0;34m=\u001b[0m \u001b[0mpd\u001b[0m\u001b[0;34m.\u001b[0m\u001b[0mread_csv\u001b[0m\u001b[0;34m(\u001b[0m\u001b[0;34m'ongoing_cities.csv'\u001b[0m\u001b[0;34m,\u001b[0m \u001b[0mheader\u001b[0m \u001b[0;34m=\u001b[0m \u001b[0mFalse\u001b[0m\u001b[0;34m)\u001b[0m\u001b[0;34m\u001b[0m\u001b[0m\n\u001b[0;32m---> 16\u001b[0;31m \u001b[0;34m\u001b[0m\u001b[0m\n\u001b[0m\u001b[1;32m     17\u001b[0m   \u001b[0;31m# Headers for our target dataframe\u001b[0m\u001b[0;34m\u001b[0m\u001b[0;34m\u001b[0m\u001b[0m\n\u001b[1;32m     18\u001b[0m   cols = ['heading', 'body', 'price', 'lat', 'long', 'region', 'neighborhood', \n",
      "\u001b[0;31mTypeError\u001b[0m: parser_f() got an unexpected keyword argument 'headers'"
     ]
    }
   ],
   "source": [
    "get_data(start, end)"
   ]
  },
  {
   "cell_type": "code",
   "execution_count": null,
   "metadata": {
    "collapsed": true
   },
   "outputs": [],
   "source": []
  }
 ],
 "metadata": {
  "kernelspec": {
   "display_name": "Python 2",
   "language": "python",
   "name": "python2"
  },
  "language_info": {
   "codemirror_mode": {
    "name": "ipython",
    "version": 2
   },
   "file_extension": ".py",
   "mimetype": "text/x-python",
   "name": "python",
   "nbconvert_exporter": "python",
   "pygments_lexer": "ipython2",
   "version": "2.7.10"
  }
 },
 "nbformat": 4,
 "nbformat_minor": 0
}
