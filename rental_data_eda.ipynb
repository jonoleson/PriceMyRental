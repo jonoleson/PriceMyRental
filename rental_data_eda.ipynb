{
 "cells": [
  {
   "cell_type": "code",
   "execution_count": 9,
   "metadata": {
    "collapsed": false
   },
   "outputs": [],
   "source": [
    "import pandas as pd\n",
    "import requests\n",
    "from datetime import timedelta, date\n",
    "\n"
   ]
  },
  {
   "cell_type": "code",
   "execution_count": 6,
   "metadata": {
    "collapsed": false
   },
   "outputs": [
    {
     "data": {
      "text/html": [
       "<div style=\"max-height:1000px;max-width:1500px;overflow:auto;\">\n",
       "<table border=\"1\" class=\"dataframe\">\n",
       "  <thead>\n",
       "    <tr style=\"text-align: right;\">\n",
       "      <th></th>\n",
       "      <th>state_code</th>\n",
       "      <th>city_code</th>\n",
       "      <th>city</th>\n",
       "    </tr>\n",
       "  </thead>\n",
       "  <tbody>\n",
       "    <tr>\n",
       "      <th>0 </th>\n",
       "      <td> USA-MA</td>\n",
       "      <td> USA-BOS-BOT</td>\n",
       "      <td>                  Boston</td>\n",
       "    </tr>\n",
       "    <tr>\n",
       "      <th>1 </th>\n",
       "      <td> USA-IL</td>\n",
       "      <td> USA-CHI-CHH</td>\n",
       "      <td>                 Chicago</td>\n",
       "    </tr>\n",
       "    <tr>\n",
       "      <th>2 </th>\n",
       "      <td> USX-TX</td>\n",
       "      <td> USA-DAL-DLL</td>\n",
       "      <td>                  Dallas</td>\n",
       "    </tr>\n",
       "    <tr>\n",
       "      <th>3 </th>\n",
       "      <td> USA-MI</td>\n",
       "      <td> USA-DET-DET</td>\n",
       "      <td>                 Detroit</td>\n",
       "    </tr>\n",
       "    <tr>\n",
       "      <th>4 </th>\n",
       "      <td> USA-NV</td>\n",
       "      <td> USA-LAS-LAS</td>\n",
       "      <td>               Las Vegas</td>\n",
       "    </tr>\n",
       "    <tr>\n",
       "      <th>5 </th>\n",
       "      <td> USA-CA</td>\n",
       "      <td> USA-LAX-LSN</td>\n",
       "      <td>             Los Angeles</td>\n",
       "    </tr>\n",
       "    <tr>\n",
       "      <th>6 </th>\n",
       "      <td> USA-FL</td>\n",
       "      <td> USA-MIA-MIF</td>\n",
       "      <td>                   Miami</td>\n",
       "    </tr>\n",
       "    <tr>\n",
       "      <th>7 </th>\n",
       "      <td> USA-MN</td>\n",
       "      <td> USA-MIN-MIA</td>\n",
       "      <td>             Minneapolis</td>\n",
       "    </tr>\n",
       "    <tr>\n",
       "      <th>8 </th>\n",
       "      <td> USA-NY</td>\n",
       "      <td> USA-NYM-NEY</td>\n",
       "      <td> New York City-Manhattan</td>\n",
       "    </tr>\n",
       "    <tr>\n",
       "      <th>9 </th>\n",
       "      <td> USA-FL</td>\n",
       "      <td> USA-ORL-ORL</td>\n",
       "      <td>                 Orlando</td>\n",
       "    </tr>\n",
       "    <tr>\n",
       "      <th>10</th>\n",
       "      <td> USA-PA</td>\n",
       "      <td> USA-PHI-PHI</td>\n",
       "      <td>            Philadelphia</td>\n",
       "    </tr>\n",
       "    <tr>\n",
       "      <th>11</th>\n",
       "      <td> USA-OR</td>\n",
       "      <td> USA-POR-POR</td>\n",
       "      <td>                Portland</td>\n",
       "    </tr>\n",
       "    <tr>\n",
       "      <th>12</th>\n",
       "      <td> USA-NC</td>\n",
       "      <td> USA-RAL-RAL</td>\n",
       "      <td>                 Raleigh</td>\n",
       "    </tr>\n",
       "    <tr>\n",
       "      <th>13</th>\n",
       "      <td> USA-CA</td>\n",
       "      <td> USA-SAN-SAD</td>\n",
       "      <td>               San Diego</td>\n",
       "    </tr>\n",
       "    <tr>\n",
       "      <th>14</th>\n",
       "      <td> USA-WA</td>\n",
       "      <td> USA-SEA-SET</td>\n",
       "      <td>                 Seattle</td>\n",
       "    </tr>\n",
       "    <tr>\n",
       "      <th>15</th>\n",
       "      <td> USA-CA</td>\n",
       "      <td> USA-SFO-OAA</td>\n",
       "      <td>                 Oakland</td>\n",
       "    </tr>\n",
       "    <tr>\n",
       "      <th>16</th>\n",
       "      <td> USA-DC</td>\n",
       "      <td> USA-WAS-WSD</td>\n",
       "      <td>              Washington</td>\n",
       "    </tr>\n",
       "    <tr>\n",
       "      <th>17</th>\n",
       "      <td> USA-TX</td>\n",
       "      <td> USA-SAT-SAT</td>\n",
       "      <td>             San Antonio</td>\n",
       "    </tr>\n",
       "    <tr>\n",
       "      <th>18</th>\n",
       "      <td> USA-GA</td>\n",
       "      <td> USA-ATL-ATA</td>\n",
       "      <td>                 Atlanta</td>\n",
       "    </tr>\n",
       "    <tr>\n",
       "      <th>19</th>\n",
       "      <td> USA-TX</td>\n",
       "      <td> USA-AUT-AUS</td>\n",
       "      <td>                  Austin</td>\n",
       "    </tr>\n",
       "    <tr>\n",
       "      <th>20</th>\n",
       "      <td> USA-CA</td>\n",
       "      <td> USA-SAC-SAC</td>\n",
       "      <td>              Sacramento</td>\n",
       "    </tr>\n",
       "    <tr>\n",
       "      <th>21</th>\n",
       "      <td> USA-CA</td>\n",
       "      <td> USA-SFO-SNF</td>\n",
       "      <td>           San Francisco</td>\n",
       "    </tr>\n",
       "    <tr>\n",
       "      <th>22</th>\n",
       "      <td> USA-AZ</td>\n",
       "      <td> USA-PHX-PHO</td>\n",
       "      <td>                 Phoenix</td>\n",
       "    </tr>\n",
       "    <tr>\n",
       "      <th>23</th>\n",
       "      <td> USA-TX</td>\n",
       "      <td> USA-HOU-HOU</td>\n",
       "      <td>                 Houston</td>\n",
       "    </tr>\n",
       "    <tr>\n",
       "      <th>24</th>\n",
       "      <td> USA-CO</td>\n",
       "      <td> USA-DEN-DEN</td>\n",
       "      <td>                  Denver</td>\n",
       "    </tr>\n",
       "  </tbody>\n",
       "</table>\n",
       "</div>"
      ],
      "text/plain": [
       "   state_code    city_code                     city\n",
       "0      USA-MA  USA-BOS-BOT                   Boston\n",
       "1      USA-IL  USA-CHI-CHH                  Chicago\n",
       "2      USX-TX  USA-DAL-DLL                   Dallas\n",
       "3      USA-MI  USA-DET-DET                  Detroit\n",
       "4      USA-NV  USA-LAS-LAS                Las Vegas\n",
       "5      USA-CA  USA-LAX-LSN              Los Angeles\n",
       "6      USA-FL  USA-MIA-MIF                    Miami\n",
       "7      USA-MN  USA-MIN-MIA              Minneapolis\n",
       "8      USA-NY  USA-NYM-NEY  New York City-Manhattan\n",
       "9      USA-FL  USA-ORL-ORL                  Orlando\n",
       "10     USA-PA  USA-PHI-PHI             Philadelphia\n",
       "11     USA-OR  USA-POR-POR                 Portland\n",
       "12     USA-NC  USA-RAL-RAL                  Raleigh\n",
       "13     USA-CA  USA-SAN-SAD                San Diego\n",
       "14     USA-WA  USA-SEA-SET                  Seattle\n",
       "15     USA-CA  USA-SFO-OAA                  Oakland\n",
       "16     USA-DC  USA-WAS-WSD               Washington\n",
       "17     USA-TX  USA-SAT-SAT              San Antonio\n",
       "18     USA-GA  USA-ATL-ATA                  Atlanta\n",
       "19     USA-TX  USA-AUT-AUS                   Austin\n",
       "20     USA-CA  USA-SAC-SAC               Sacramento\n",
       "21     USA-CA  USA-SFO-SNF            San Francisco\n",
       "22     USA-AZ  USA-PHX-PHO                  Phoenix\n",
       "23     USA-TX  USA-HOU-HOU                  Houston\n",
       "24     USA-CO  USA-DEN-DEN                   Denver"
      ]
     },
     "execution_count": 6,
     "metadata": {},
     "output_type": "execute_result"
    }
   ],
   "source": [
    "cities = pd.read_csv('data/ongoing_cities.csv', header = False)"
   ]
  },
  {
   "cell_type": "code",
   "execution_count": 11,
   "metadata": {
    "collapsed": false
   },
   "outputs": [
    {
     "name": "stdout",
     "output_type": "stream",
     "text": [
      "0                      Boston\n",
      "1                     Chicago\n",
      "2                      Dallas\n",
      "3                     Detroit\n",
      "4                   Las Vegas\n",
      "5                 Los Angeles\n",
      "6                       Miami\n",
      "7                 Minneapolis\n",
      "8     New York City-Manhattan\n",
      "9                     Orlando\n",
      "10               Philadelphia\n",
      "11                   Portland\n",
      "12                    Raleigh\n",
      "13                  San Diego\n",
      "14                    Seattle\n",
      "15                    Oakland\n",
      "16                 Washington\n",
      "17                San Antonio\n",
      "18                    Atlanta\n",
      "19                     Austin\n",
      "20                 Sacramento\n",
      "21              San Francisco\n",
      "22                    Phoenix\n",
      "23                    Houston\n",
      "24                     Denver\n",
      "Name: city, dtype: object\n",
      "0                      Boston\n",
      "1                     Chicago\n",
      "2                      Dallas\n",
      "3                     Detroit\n",
      "4                   Las Vegas\n",
      "5                 Los Angeles\n",
      "6                       Miami\n",
      "7                 Minneapolis\n",
      "8     New York City-Manhattan\n",
      "9                     Orlando\n",
      "10               Philadelphia\n",
      "11                   Portland\n",
      "12                    Raleigh\n",
      "13                  San Diego\n",
      "14                    Seattle\n",
      "15                    Oakland\n",
      "16                 Washington\n",
      "17                San Antonio\n",
      "18                    Atlanta\n",
      "19                     Austin\n",
      "20                 Sacramento\n",
      "21              San Francisco\n",
      "22                    Phoenix\n",
      "23                    Houston\n",
      "24                     Denver\n",
      "Name: city, dtype: object\n",
      "0                      Boston\n",
      "1                     Chicago\n",
      "2                      Dallas\n",
      "3                     Detroit\n",
      "4                   Las Vegas\n",
      "5                 Los Angeles\n",
      "6                       Miami\n",
      "7                 Minneapolis\n",
      "8     New York City-Manhattan\n",
      "9                     Orlando\n",
      "10               Philadelphia\n",
      "11                   Portland\n",
      "12                    Raleigh\n",
      "13                  San Diego\n",
      "14                    Seattle\n",
      "15                    Oakland\n",
      "16                 Washington\n",
      "17                San Antonio\n",
      "18                    Atlanta\n",
      "19                     Austin\n",
      "20                 Sacramento\n",
      "21              San Francisco\n",
      "22                    Phoenix\n",
      "23                    Houston\n",
      "24                     Denver\n",
      "Name: city, dtype: object\n"
     ]
    }
   ],
   "source": [
    "for city in cities:\n",
    "    print cities.city"
   ]
  },
  {
   "cell_type": "code",
   "execution_count": 12,
   "metadata": {
    "collapsed": false
   },
   "outputs": [
    {
     "data": {
      "text/plain": [
       "0                      Boston\n",
       "1                     Chicago\n",
       "2                      Dallas\n",
       "3                     Detroit\n",
       "4                   Las Vegas\n",
       "5                 Los Angeles\n",
       "6                       Miami\n",
       "7                 Minneapolis\n",
       "8     New York City-Manhattan\n",
       "9                     Orlando\n",
       "10               Philadelphia\n",
       "11                   Portland\n",
       "12                    Raleigh\n",
       "13                  San Diego\n",
       "14                    Seattle\n",
       "15                    Oakland\n",
       "16                 Washington\n",
       "17                San Antonio\n",
       "18                    Atlanta\n",
       "19                     Austin\n",
       "20                 Sacramento\n",
       "21              San Francisco\n",
       "22                    Phoenix\n",
       "23                    Houston\n",
       "24                     Denver\n",
       "Name: city, dtype: object"
      ]
     },
     "execution_count": 12,
     "metadata": {},
     "output_type": "execute_result"
    }
   ],
   "source": [
    "cities.city"
   ]
  },
  {
   "cell_type": "code",
   "execution_count": 2,
   "metadata": {
    "collapsed": false
   },
   "outputs": [],
   "source": [
    "url = 'https://s3-us-west-2.amazonaws.com/hoodsjson/USA-CA/USA-SFO-SNF/2014-09-30/0.html'\n",
    "import requests\n",
    "r = requests.get(url)\n",
    "sfdata = r.json()\n"
   ]
  },
  {
   "cell_type": "code",
   "execution_count": 3,
   "metadata": {
    "collapsed": false
   },
   "outputs": [
    {
     "name": "stdout",
     "output_type": "stream",
     "text": [
      "  Affordable  Newly Remodeled Great Loc. 3 Bedroom 2 Baths  \n",
      "2 BR Condo at Telegraph Landing with Stunning Bridge  Water Views\n",
      "Cottage Style, Executive Home\n",
      "2ND FL.,FACE AWAY ST.,REMODELED,LIGHTED, QUIET,2 BLOCKS TO UNION SQ.\n",
      "2nd FL., FACES ST.,NEW HWF, BRIGHT, SUNNY, 2 BLOCKS TO UNION SQUARE\n",
      "TopFlatwBreathtakenViews inSafeNeighborhd nrBART,GoogleShuttleStp,MUNI\n",
      "2ND FL.,FACE AWAY ST.,REMODELED,LIGHTED, QUIET,2 BLOCKS TO UNION SQ.\n",
      "BASEMENT LVL, 2/1, REMDLD APT.,QUIET, LIGHTED, 2 BLKS TO UNION SQUARE\n",
      "Contemporary Pacific Heights 2 bedroom, 2 bath condominium\n",
      "Furnished One Bedroom on Mission Street With Wifi\n"
     ]
    }
   ],
   "source": [
    "for apt in data[:10]:\n",
    "    print apt['heading']"
   ]
  },
  {
   "cell_type": "code",
   "execution_count": 10,
   "metadata": {
    "collapsed": false
   },
   "outputs": [],
   "source": [
    "state = cities.iloc[0].state_code\n",
    "city = cities.iloc[0].city_code\n",
    "date = '2014-09-29'\n",
    "i=0 \n",
    "url = \"https://s3-us-west-2.amazonaws.com/hoodsjson/%s/%s/%s/%s.html\" %(state, city, date, i)"
   ]
  },
  {
   "cell_type": "code",
   "execution_count": 11,
   "metadata": {
    "collapsed": false
   },
   "outputs": [],
   "source": [
    "my_json = requests.get(url)"
   ]
  },
  {
   "cell_type": "code",
   "execution_count": 12,
   "metadata": {
    "collapsed": false
   },
   "outputs": [],
   "source": [
    "data_hash = my_json.json()"
   ]
  },
  {
   "cell_type": "code",
   "execution_count": 20,
   "metadata": {
    "collapsed": false
   },
   "outputs": [
    {
     "name": "stdout",
     "output_type": "stream",
     "text": [
      "100\n"
     ]
    }
   ],
   "source": [
    "print len(data_hash)"
   ]
  },
  {
   "cell_type": "code",
   "execution_count": 75,
   "metadata": {
    "collapsed": false
   },
   "outputs": [],
   "source": [
    "#Function to iterate through dates\n",
    "def daterange(start_date, end_date):\n",
    "    for n in range(int ((end_date - start_date).days)):\n",
    "        single_date = start_date + timedelta(n)\n",
    "        yield single_date.strftime('%Y-%m-%d')"
   ]
  },
  {
   "cell_type": "code",
   "execution_count": 14,
   "metadata": {
    "collapsed": true
   },
   "outputs": [],
   "source": [
    "headers = [\"id\", \"header\", \"body\", \"bedrooms\", \"bathrooms\", \"sqft\", \n",
    "             \"timestamp\", \"price\", \"external_url\", \"lat\", \"lon\", \n",
    "             \"accuracy\", \"address\", \"parking\", \"washer_dryer\", \"pet\"]"
   ]
  },
  {
   "cell_type": "code",
   "execution_count": 16,
   "metadata": {
    "collapsed": false
   },
   "outputs": [],
   "source": [
    "df = pd.DataFrame(columns=headers)"
   ]
  },
  {
   "cell_type": "code",
   "execution_count": 17,
   "metadata": {
    "collapsed": false
   },
   "outputs": [
    {
     "data": {
      "text/html": [
       "<div style=\"max-height:1000px;max-width:1500px;overflow:auto;\">\n",
       "<table border=\"1\" class=\"dataframe\">\n",
       "  <thead>\n",
       "    <tr style=\"text-align: right;\">\n",
       "      <th></th>\n",
       "      <th>id</th>\n",
       "      <th>header</th>\n",
       "      <th>body</th>\n",
       "      <th>bedrooms</th>\n",
       "      <th>bathrooms</th>\n",
       "      <th>sqft</th>\n",
       "      <th>timestamp</th>\n",
       "      <th>price</th>\n",
       "      <th>external_url</th>\n",
       "      <th>lat</th>\n",
       "      <th>lon</th>\n",
       "      <th>accuracy</th>\n",
       "      <th>address</th>\n",
       "      <th>parking</th>\n",
       "      <th>washer_dryer</th>\n",
       "      <th>pet</th>\n",
       "    </tr>\n",
       "  </thead>\n",
       "  <tbody>\n",
       "  </tbody>\n",
       "</table>\n",
       "</div>"
      ],
      "text/plain": [
       "Empty DataFrame\n",
       "Columns: [id, header, body, bedrooms, bathrooms, sqft, timestamp, price, external_url, lat, lon, accuracy, address, parking, washer_dryer, pet]\n",
       "Index: []"
      ]
     },
     "execution_count": 17,
     "metadata": {},
     "output_type": "execute_result"
    }
   ],
   "source": [
    "df"
   ]
  },
  {
   "cell_type": "code",
   "execution_count": 34,
   "metadata": {
    "collapsed": false
   },
   "outputs": [],
   "source": [
    "url = 'https://s3-us-west-2.amazonaws.com/hoodsjson/USA-CA/USA-SFO-SNF/2014-09-30/0.html'\n",
    "json_df = pd.read_json(url)\n",
    "    "
   ]
  },
  {
   "cell_type": "code",
   "execution_count": 35,
   "metadata": {
    "collapsed": false
   },
   "outputs": [
    {
     "data": {
      "text/html": [
       "<div style=\"max-height:1000px;max-width:1500px;overflow:auto;\">\n",
       "<table border=\"1\" class=\"dataframe\">\n",
       "  <thead>\n",
       "    <tr style=\"text-align: right;\">\n",
       "      <th></th>\n",
       "      <th>annotations</th>\n",
       "      <th>body</th>\n",
       "      <th>category</th>\n",
       "      <th>expires</th>\n",
       "      <th>external_url</th>\n",
       "      <th>flagged_status</th>\n",
       "      <th>heading</th>\n",
       "      <th>id</th>\n",
       "      <th>immortal</th>\n",
       "      <th>location</th>\n",
       "      <th>price</th>\n",
       "      <th>source</th>\n",
       "      <th>timestamp</th>\n",
       "    </tr>\n",
       "  </thead>\n",
       "  <tbody>\n",
       "    <tr>\n",
       "      <th>0</th>\n",
       "      <td> {u'available': u'oct 20', u'dogs': u'NO', u'so...</td>\n",
       "      <td> \\n Hi there,\\nI have a fully detached bright &amp;...</td>\n",
       "      <td> RHFR</td>\n",
       "      <td> 1415865435</td>\n",
       "      <td> http://sfbay.craigslist.org/sfc/apa/4690569881...</td>\n",
       "      <td>NaN</td>\n",
       "      <td>   Affordable  Newly Remodeled Great Loc. 3 Bed...</td>\n",
       "      <td> 1418204761</td>\n",
       "      <td> 0</td>\n",
       "      <td> {u'city': u'USA-SFO-SNF', u'geolocation_status...</td>\n",
       "      <td> 2800</td>\n",
       "      <td> CRAIG</td>\n",
       "      <td> 1411977435</td>\n",
       "    </tr>\n",
       "    <tr>\n",
       "      <th>1</th>\n",
       "      <td> {u'bathrooms': u'2.5ba', u'source_account': u'...</td>\n",
       "      <td> \\n Telegraph Landing, 2-level condo located on...</td>\n",
       "      <td> RHFR</td>\n",
       "      <td> 1415868052</td>\n",
       "      <td> http://sfbay.craigslist.org/sfc/apa/4652748044...</td>\n",
       "      <td>NaN</td>\n",
       "      <td> 2 BR Condo at Telegraph Landing with Stunning ...</td>\n",
       "      <td> 1418222038</td>\n",
       "      <td> 0</td>\n",
       "      <td> {u'city': u'USA-SFO-SNF', u'geolocation_status...</td>\n",
       "      <td> 5200</td>\n",
       "      <td> CRAIG</td>\n",
       "      <td> 1411980052</td>\n",
       "    </tr>\n",
       "    <tr>\n",
       "      <th>2</th>\n",
       "      <td> {u'available': u'sep 29', u'source_subloc': u'...</td>\n",
       "      <td> \\n Flickinger North Valley, Bentley Park Commu...</td>\n",
       "      <td> RHFR</td>\n",
       "      <td> 1415867128</td>\n",
       "      <td> http://sfbay.craigslist.org/sby/apa/4690575932...</td>\n",
       "      <td>NaN</td>\n",
       "      <td>                     Cottage Style, Executive Home</td>\n",
       "      <td> 1418222072</td>\n",
       "      <td> 0</td>\n",
       "      <td> {u'city': u'USA-SFO-SNF', u'geolocation_status...</td>\n",
       "      <td> 2750</td>\n",
       "      <td> CRAIG</td>\n",
       "      <td> 1411979128</td>\n",
       "    </tr>\n",
       "    <tr>\n",
       "      <th>3</th>\n",
       "      <td> {u'bathrooms': u'1ba', u'source_account': u'zg...</td>\n",
       "      <td> \\n 2/1, REMODELED,LIGHTED, QUIET,2 BLOCKS TO U...</td>\n",
       "      <td> RHFR</td>\n",
       "      <td> 1415869049</td>\n",
       "      <td> http://sfbay.craigslist.org/sfc/apa/4667733155...</td>\n",
       "      <td>NaN</td>\n",
       "      <td> 2ND FL.,FACE AWAY ST.,REMODELED,LIGHTED, QUIET...</td>\n",
       "      <td> 1418240204</td>\n",
       "      <td> 0</td>\n",
       "      <td> {u'city': u'USA-SFO-SNF', u'geolocation_status...</td>\n",
       "      <td> 3750</td>\n",
       "      <td> CRAIG</td>\n",
       "      <td> 1411981049</td>\n",
       "    </tr>\n",
       "    <tr>\n",
       "      <th>4</th>\n",
       "      <td> {u'bathrooms': u'1ba', u'source_account': u'qj...</td>\n",
       "      <td> \\n 2nd FL., STUDIO FACES ST.,BRIGHT, SUNNY, QU...</td>\n",
       "      <td> RHFR</td>\n",
       "      <td> 1415869056</td>\n",
       "      <td> http://sfbay.craigslist.org/sfc/apa/4646621294...</td>\n",
       "      <td>NaN</td>\n",
       "      <td> 2nd FL., FACES ST.,NEW HWF, BRIGHT, SUNNY, 2 B...</td>\n",
       "      <td> 1418240312</td>\n",
       "      <td> 0</td>\n",
       "      <td> {u'city': u'USA-SFO-SNF', u'geolocation_status...</td>\n",
       "      <td> 2025</td>\n",
       "      <td> CRAIG</td>\n",
       "      <td> 1411981056</td>\n",
       "    </tr>\n",
       "  </tbody>\n",
       "</table>\n",
       "</div>"
      ],
      "text/plain": [
       "                                         annotations  \\\n",
       "0  {u'available': u'oct 20', u'dogs': u'NO', u'so...   \n",
       "1  {u'bathrooms': u'2.5ba', u'source_account': u'...   \n",
       "2  {u'available': u'sep 29', u'source_subloc': u'...   \n",
       "3  {u'bathrooms': u'1ba', u'source_account': u'zg...   \n",
       "4  {u'bathrooms': u'1ba', u'source_account': u'qj...   \n",
       "\n",
       "                                                body category     expires  \\\n",
       "0  \\n Hi there,\\nI have a fully detached bright &...     RHFR  1415865435   \n",
       "1  \\n Telegraph Landing, 2-level condo located on...     RHFR  1415868052   \n",
       "2  \\n Flickinger North Valley, Bentley Park Commu...     RHFR  1415867128   \n",
       "3  \\n 2/1, REMODELED,LIGHTED, QUIET,2 BLOCKS TO U...     RHFR  1415869049   \n",
       "4  \\n 2nd FL., STUDIO FACES ST.,BRIGHT, SUNNY, QU...     RHFR  1415869056   \n",
       "\n",
       "                                        external_url  flagged_status  \\\n",
       "0  http://sfbay.craigslist.org/sfc/apa/4690569881...             NaN   \n",
       "1  http://sfbay.craigslist.org/sfc/apa/4652748044...             NaN   \n",
       "2  http://sfbay.craigslist.org/sby/apa/4690575932...             NaN   \n",
       "3  http://sfbay.craigslist.org/sfc/apa/4667733155...             NaN   \n",
       "4  http://sfbay.craigslist.org/sfc/apa/4646621294...             NaN   \n",
       "\n",
       "                                             heading          id  immortal  \\\n",
       "0    Affordable  Newly Remodeled Great Loc. 3 Bed...  1418204761         0   \n",
       "1  2 BR Condo at Telegraph Landing with Stunning ...  1418222038         0   \n",
       "2                      Cottage Style, Executive Home  1418222072         0   \n",
       "3  2ND FL.,FACE AWAY ST.,REMODELED,LIGHTED, QUIET...  1418240204         0   \n",
       "4  2nd FL., FACES ST.,NEW HWF, BRIGHT, SUNNY, 2 B...  1418240312         0   \n",
       "\n",
       "                                            location  price source   timestamp  \n",
       "0  {u'city': u'USA-SFO-SNF', u'geolocation_status...   2800  CRAIG  1411977435  \n",
       "1  {u'city': u'USA-SFO-SNF', u'geolocation_status...   5200  CRAIG  1411980052  \n",
       "2  {u'city': u'USA-SFO-SNF', u'geolocation_status...   2750  CRAIG  1411979128  \n",
       "3  {u'city': u'USA-SFO-SNF', u'geolocation_status...   3750  CRAIG  1411981049  \n",
       "4  {u'city': u'USA-SFO-SNF', u'geolocation_status...   2025  CRAIG  1411981056  "
      ]
     },
     "execution_count": 35,
     "metadata": {},
     "output_type": "execute_result"
    }
   ],
   "source": [
    "json_df.head()"
   ]
  },
  {
   "cell_type": "code",
   "execution_count": 38,
   "metadata": {
    "collapsed": false
   },
   "outputs": [
    {
     "data": {
      "text/plain": [
       "u'\\n Telegraph Landing, 2-level condo located one block away from the Embarcadero between Piers 27 and 23. Approximately 1400 square feet, this wonderful unit has 2 spacious bedrooms and 2 bathrooms located on its own private first level. A large living room, dining room, kitchen and &frac12; bathroom, plus balcony terrace comprises the second floor. Stairs lead up from there to its own private roof-top deck with gorgeous views of Coit Tower and peek-a-boo views of the Bay. The private deck is perfect for outdoor entertaining and BBQ. This condo is part of Telegraph Landing and comes with access to a gym, 24-hour guarded entry, incredible Golden Gate to Bay Bridge views on the accessible and shared roof-top deck, and 1 reserved parking spot -- includes tons of storage. It is close to shops, restaurants, grocery stores, night life, transportation and much more!\\nMust have good credit.\\nRent per month $5,200.\\nSecurity deposit of one month.\\nPlease no pets nor smokers.\\nSummary of Unit Features\\n&bull; 156 Lombard Street (cross street: Sansome)\\n&bull; 1,450 sq. feet\\n&bull; New carpet throughout entire unit\\n&bull; Open living/dining area with balcony deck\\n&bull; Barbecue-friendly private roof-top deck\\n&bull; Laundry room with washer/dryer in unit\\n&bull; Unfurnished\\n&bull; 1-car parking included\\n&bull; Elevator in-building\\n&bull; Shared courtyard and gym access\\n&bull; Water, basic cable and garbage included in rent\\nFor showings, please email\\n or call\\nNo Soliciting.\\n '"
      ]
     },
     "execution_count": 38,
     "metadata": {},
     "output_type": "execute_result"
    }
   ],
   "source": [
    "json_df.body[1]"
   ]
  },
  {
   "cell_type": "code",
   "execution_count": null,
   "metadata": {
    "collapsed": true
   },
   "outputs": [],
   "source": []
  }
 ],
 "metadata": {
  "kernelspec": {
   "display_name": "Python 2",
   "language": "python",
   "name": "python2"
  },
  "language_info": {
   "codemirror_mode": {
    "name": "ipython",
    "version": 2
   },
   "file_extension": ".py",
   "mimetype": "text/x-python",
   "name": "python",
   "nbconvert_exporter": "python",
   "pygments_lexer": "ipython2",
   "version": "2.7.9"
  }
 },
 "nbformat": 4,
 "nbformat_minor": 0
}
